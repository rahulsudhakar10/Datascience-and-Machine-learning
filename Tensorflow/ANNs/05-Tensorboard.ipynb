{
 "cells": [
  {
   "cell_type": "code",
   "execution_count": 1,
   "metadata": {},
   "outputs": [],
   "source": [
    "import pandas as pd\n",
    "import numpy as np"
   ]
  },
  {
   "cell_type": "code",
   "execution_count": 2,
   "metadata": {},
   "outputs": [],
   "source": [
    "df = pd.read_csv('../DATA/cancer_classification.csv')"
   ]
  },
  {
   "cell_type": "code",
   "execution_count": 3,
   "metadata": {},
   "outputs": [],
   "source": [
    "X = df.drop('benign_0__mal_1',axis=1).values\n",
    "y = df['benign_0__mal_1'].values"
   ]
  },
  {
   "cell_type": "code",
   "execution_count": 4,
   "metadata": {},
   "outputs": [],
   "source": [
    "from sklearn.model_selection import train_test_split"
   ]
  },
  {
   "cell_type": "code",
   "execution_count": 5,
   "metadata": {},
   "outputs": [],
   "source": [
    "X_train, X_test, y_train, y_test = train_test_split(X,y,test_size=0.25,random_state=101)"
   ]
  },
  {
   "cell_type": "code",
   "execution_count": 6,
   "metadata": {},
   "outputs": [],
   "source": [
    "from sklearn.preprocessing import MinMaxScaler"
   ]
  },
  {
   "cell_type": "code",
   "execution_count": 7,
   "metadata": {},
   "outputs": [],
   "source": [
    "scaler = MinMaxScaler()"
   ]
  },
  {
   "cell_type": "code",
   "execution_count": 8,
   "metadata": {},
   "outputs": [
    {
     "data": {
      "text/plain": [
       "MinMaxScaler(copy=True, feature_range=(0, 1))"
      ]
     },
     "execution_count": 8,
     "metadata": {},
     "output_type": "execute_result"
    }
   ],
   "source": [
    "scaler.fit(X_train)"
   ]
  },
  {
   "cell_type": "code",
   "execution_count": 9,
   "metadata": {},
   "outputs": [],
   "source": [
    "X_train = scaler.transform(X_train)\n",
    "X_test = scaler.transform(X_test)"
   ]
  },
  {
   "cell_type": "code",
   "execution_count": 10,
   "metadata": {},
   "outputs": [],
   "source": [
    "import tensorflow as tf\n",
    "from tensorflow.keras.models import Sequential\n",
    "from tensorflow.keras.layers import Dense, Activation,Dropout"
   ]
  },
  {
   "cell_type": "code",
   "execution_count": 11,
   "metadata": {},
   "outputs": [],
   "source": [
    "from tensorflow.keras.callbacks import EarlyStopping,TensorBoard"
   ]
  },
  {
   "cell_type": "code",
   "execution_count": 12,
   "metadata": {},
   "outputs": [],
   "source": [
    "early_stop = EarlyStopping(monitor='val_loss',mode='min',verbose=1,patience=25)"
   ]
  },
  {
   "cell_type": "code",
   "execution_count": 13,
   "metadata": {},
   "outputs": [
    {
     "data": {
      "text/plain": [
       "'C:\\\\Users\\\\rahul sudhakar\\\\Desktop\\\\python_ml_datascience\\\\New folder\\\\ANNs'"
      ]
     },
     "execution_count": 13,
     "metadata": {},
     "output_type": "execute_result"
    }
   ],
   "source": [
    "pwd"
   ]
  },
  {
   "cell_type": "code",
   "execution_count": 14,
   "metadata": {},
   "outputs": [],
   "source": [
    "from datetime import datetime"
   ]
  },
  {
   "cell_type": "code",
   "execution_count": 15,
   "metadata": {},
   "outputs": [
    {
     "data": {
      "text/plain": [
       "'2020-05-30--0143'"
      ]
     },
     "execution_count": 15,
     "metadata": {},
     "output_type": "execute_result"
    }
   ],
   "source": [
    "datetime.now().strftime(\"%Y-%m-%d--%H%M\")"
   ]
  },
  {
   "cell_type": "code",
   "execution_count": 16,
   "metadata": {},
   "outputs": [],
   "source": [
    "log_directory = 'logs\\\\fit'\n",
    "\n",
    "board = TensorBoard(log_dir=log_directory,\n",
    "                    histogram_freq=1,\n",
    "                   write_graph=True,\n",
    "                   write_images=True,\n",
    "                   update_freq='epoch',\n",
    "                   profile_batch=2,\n",
    "                   embeddings_freq=1)"
   ]
  },
  {
   "cell_type": "code",
   "execution_count": 17,
   "metadata": {},
   "outputs": [],
   "source": [
    "model = Sequential()\n",
    "model.add(Dense(units=30,activation='relu'))\n",
    "model.add(Dropout(0.5))\n",
    "model.add(Dense(units=15,activation='relu'))\n",
    "model.add(Dropout(0.5))\n",
    "model.add(Dense(units=1,activation='sigmoid'))\n",
    "model.compile(loss='binary_crossentropy', optimizer='adam')"
   ]
  },
  {
   "cell_type": "code",
   "execution_count": 18,
   "metadata": {},
   "outputs": [
    {
     "name": "stdout",
     "output_type": "stream",
     "text": [
      "Train on 426 samples, validate on 143 samples\n",
      "Epoch 1/600\n",
      " 32/426 [=>............................] - ETA: 36s - loss: 0.7021WARNING:tensorflow:Method (on_train_batch_end) is slow compared to the batch update (0.119197). Check your callbacks.\n",
      "426/426 [==============================] - 4s 10ms/sample - loss: 0.6895 - val_loss: 0.6831\n",
      "Epoch 2/600\n",
      "426/426 [==============================] - 2s 4ms/sample - loss: 0.6760 - val_loss: 0.6713\n",
      "Epoch 3/600\n",
      "426/426 [==============================] - 2s 5ms/sample - loss: 0.6711 - val_loss: 0.6538\n",
      "Epoch 4/600\n",
      "426/426 [==============================] - 3s 6ms/sample - loss: 0.6517 - val_loss: 0.6354\n",
      "Epoch 5/600\n",
      "426/426 [==============================] - 2s 6ms/sample - loss: 0.6360 - val_loss: 0.6127\n",
      "Epoch 6/600\n",
      "426/426 [==============================] - 2s 4ms/sample - loss: 0.6225 - val_loss: 0.5877\n",
      "Epoch 7/600\n",
      "426/426 [==============================] - 1s 2ms/sample - loss: 0.6019 - val_loss: 0.5637\n",
      "Epoch 8/600\n",
      "426/426 [==============================] - 1s 3ms/sample - loss: 0.5790 - val_loss: 0.5350\n",
      "Epoch 9/600\n",
      "426/426 [==============================] - 1s 3ms/sample - loss: 0.5436 - val_loss: 0.5031\n",
      "Epoch 10/600\n",
      "426/426 [==============================] - 2s 5ms/sample - loss: 0.5285 - val_loss: 0.4774\n",
      "Epoch 11/600\n",
      "426/426 [==============================] - 1s 2ms/sample - loss: 0.5209 - val_loss: 0.4463\n",
      "Epoch 12/600\n",
      "426/426 [==============================] - 1s 2ms/sample - loss: 0.4787 - val_loss: 0.4139\n",
      "Epoch 13/600\n",
      "426/426 [==============================] - 1s 2ms/sample - loss: 0.4518 - val_loss: 0.3829\n",
      "Epoch 14/600\n",
      "426/426 [==============================] - 1s 2ms/sample - loss: 0.4416 - val_loss: 0.3594\n",
      "Epoch 15/600\n",
      "426/426 [==============================] - 1s 3ms/sample - loss: 0.4154 - val_loss: 0.3280\n",
      "Epoch 16/600\n",
      "426/426 [==============================] - 1s 2ms/sample - loss: 0.4115 - val_loss: 0.3083\n",
      "Epoch 17/600\n",
      "426/426 [==============================] - 1s 1ms/sample - loss: 0.3948 - val_loss: 0.2943\n",
      "Epoch 18/600\n",
      "426/426 [==============================] - 1s 2ms/sample - loss: 0.3642 - val_loss: 0.2762\n",
      "Epoch 19/600\n",
      "426/426 [==============================] - 1s 2ms/sample - loss: 0.3559 - val_loss: 0.2582\n",
      "Epoch 20/600\n",
      "426/426 [==============================] - 1s 1ms/sample - loss: 0.3527 - val_loss: 0.2537\n",
      "Epoch 21/600\n",
      "426/426 [==============================] - 1s 2ms/sample - loss: 0.3087 - val_loss: 0.2380\n",
      "Epoch 22/600\n",
      "426/426 [==============================] - 1s 2ms/sample - loss: 0.3283 - val_loss: 0.2282\n",
      "Epoch 23/600\n",
      "426/426 [==============================] - 1s 2ms/sample - loss: 0.3052 - val_loss: 0.2190\n",
      "Epoch 24/600\n",
      "426/426 [==============================] - 1s 2ms/sample - loss: 0.2913 - val_loss: 0.2027\n",
      "Epoch 25/600\n",
      "426/426 [==============================] - 1s 2ms/sample - loss: 0.2838 - val_loss: 0.1917\n",
      "Epoch 26/600\n",
      "426/426 [==============================] - 1s 2ms/sample - loss: 0.2860 - val_loss: 0.1803\n",
      "Epoch 27/600\n",
      "426/426 [==============================] - 1s 3ms/sample - loss: 0.2889 - val_loss: 0.1812\n",
      "Epoch 28/600\n",
      "426/426 [==============================] - 1s 2ms/sample - loss: 0.2670 - val_loss: 0.1791\n",
      "Epoch 29/600\n",
      "426/426 [==============================] - 1s 3ms/sample - loss: 0.2709 - val_loss: 0.1768\n",
      "Epoch 30/600\n",
      "426/426 [==============================] - 1s 2ms/sample - loss: 0.2420 - val_loss: 0.1637\n",
      "Epoch 31/600\n",
      "426/426 [==============================] - 1s 2ms/sample - loss: 0.2497 - val_loss: 0.1580\n",
      "Epoch 32/600\n",
      "426/426 [==============================] - 1s 2ms/sample - loss: 0.2429 - val_loss: 0.1664\n",
      "Epoch 33/600\n",
      "426/426 [==============================] - 1s 2ms/sample - loss: 0.2608 - val_loss: 0.1509\n",
      "Epoch 34/600\n",
      "426/426 [==============================] - 1s 2ms/sample - loss: 0.2458 - val_loss: 0.1614\n",
      "Epoch 35/600\n",
      "426/426 [==============================] - 1s 1ms/sample - loss: 0.2303 - val_loss: 0.1489\n",
      "Epoch 36/600\n",
      "426/426 [==============================] - 1s 2ms/sample - loss: 0.2195 - val_loss: 0.1416\n",
      "Epoch 37/600\n",
      "426/426 [==============================] - 1s 2ms/sample - loss: 0.2527 - val_loss: 0.1462\n",
      "Epoch 38/600\n",
      "426/426 [==============================] - 1s 2ms/sample - loss: 0.2327 - val_loss: 0.1442\n",
      "Epoch 39/600\n",
      "426/426 [==============================] - 1s 2ms/sample - loss: 0.2079 - val_loss: 0.1403\n",
      "Epoch 40/600\n",
      "426/426 [==============================] - 1s 2ms/sample - loss: 0.2207 - val_loss: 0.1430\n",
      "Epoch 41/600\n",
      "426/426 [==============================] - 1s 2ms/sample - loss: 0.2046 - val_loss: 0.1342\n",
      "Epoch 42/600\n",
      "426/426 [==============================] - 1s 2ms/sample - loss: 0.1929 - val_loss: 0.1264\n",
      "Epoch 43/600\n",
      "426/426 [==============================] - 1s 2ms/sample - loss: 0.2049 - val_loss: 0.1250\n",
      "Epoch 44/600\n",
      "426/426 [==============================] - 1s 2ms/sample - loss: 0.1923 - val_loss: 0.1188\n",
      "Epoch 45/600\n",
      "426/426 [==============================] - 1s 2ms/sample - loss: 0.2004 - val_loss: 0.1168\n",
      "Epoch 46/600\n",
      "426/426 [==============================] - 1s 2ms/sample - loss: 0.1636 - val_loss: 0.1258\n",
      "Epoch 47/600\n",
      "426/426 [==============================] - 1s 1ms/sample - loss: 0.1873 - val_loss: 0.1163\n",
      "Epoch 48/600\n",
      "426/426 [==============================] - 1s 3ms/sample - loss: 0.1644 - val_loss: 0.1035\n",
      "Epoch 49/600\n",
      "426/426 [==============================] - 1s 2ms/sample - loss: 0.1977 - val_loss: 0.1064\n",
      "Epoch 50/600\n",
      "426/426 [==============================] - 1s 1ms/sample - loss: 0.1500 - val_loss: 0.1061\n",
      "Epoch 51/600\n",
      "426/426 [==============================] - 1s 2ms/sample - loss: 0.1635 - val_loss: 0.1074\n",
      "Epoch 52/600\n",
      "426/426 [==============================] - 1s 2ms/sample - loss: 0.1589 - val_loss: 0.1051\n",
      "Epoch 53/600\n",
      "426/426 [==============================] - 1s 2ms/sample - loss: 0.1630 - val_loss: 0.1129\n",
      "Epoch 54/600\n",
      "426/426 [==============================] - 1s 2ms/sample - loss: 0.1555 - val_loss: 0.1009\n",
      "Epoch 55/600\n",
      "426/426 [==============================] - 1s 2ms/sample - loss: 0.1763 - val_loss: 0.1052\n",
      "Epoch 56/600\n",
      "426/426 [==============================] - 1s 2ms/sample - loss: 0.1557 - val_loss: 0.1155\n",
      "Epoch 57/600\n",
      "426/426 [==============================] - 1s 1ms/sample - loss: 0.1392 - val_loss: 0.1006\n",
      "Epoch 58/600\n",
      "426/426 [==============================] - 1s 2ms/sample - loss: 0.1622 - val_loss: 0.0958\n",
      "Epoch 59/600\n",
      "426/426 [==============================] - 1s 2ms/sample - loss: 0.1422 - val_loss: 0.0945\n",
      "Epoch 60/600\n",
      "426/426 [==============================] - 1s 2ms/sample - loss: 0.1579 - val_loss: 0.1007\n",
      "Epoch 61/600\n",
      "426/426 [==============================] - 1s 2ms/sample - loss: 0.1182 - val_loss: 0.1016\n",
      "Epoch 62/600\n",
      "426/426 [==============================] - 1s 1ms/sample - loss: 0.1676 - val_loss: 0.0946\n",
      "Epoch 63/600\n",
      "426/426 [==============================] - 1s 1ms/sample - loss: 0.1536 - val_loss: 0.0938\n",
      "Epoch 64/600\n",
      "426/426 [==============================] - 1s 1ms/sample - loss: 0.1441 - val_loss: 0.1040\n",
      "Epoch 65/600\n",
      "426/426 [==============================] - 1s 2ms/sample - loss: 0.1511 - val_loss: 0.0970\n",
      "Epoch 66/600\n",
      "426/426 [==============================] - 1s 2ms/sample - loss: 0.1237 - val_loss: 0.0984\n",
      "Epoch 67/600\n",
      "426/426 [==============================] - 1s 1ms/sample - loss: 0.1215 - val_loss: 0.0946\n",
      "Epoch 68/600\n",
      "426/426 [==============================] - 1s 1ms/sample - loss: 0.1293 - val_loss: 0.0910\n",
      "Epoch 69/600\n",
      "426/426 [==============================] - 1s 1ms/sample - loss: 0.0997 - val_loss: 0.0987\n",
      "Epoch 70/600\n",
      "426/426 [==============================] - 0s 995us/sample - loss: 0.1128 - val_loss: 0.0888\n",
      "Epoch 71/600\n",
      "426/426 [==============================] - 0s 1ms/sample - loss: 0.1476 - val_loss: 0.0867\n",
      "Epoch 72/600\n",
      "426/426 [==============================] - 0s 1ms/sample - loss: 0.1109 - val_loss: 0.0922\n",
      "Epoch 73/600\n",
      "426/426 [==============================] - 1s 1ms/sample - loss: 0.1219 - val_loss: 0.0849\n",
      "Epoch 74/600\n",
      "426/426 [==============================] - 1s 1ms/sample - loss: 0.1273 - val_loss: 0.1006\n",
      "Epoch 75/600\n",
      "426/426 [==============================] - 1s 1ms/sample - loss: 0.1184 - val_loss: 0.0972\n",
      "Epoch 76/600\n",
      "426/426 [==============================] - 0s 971us/sample - loss: 0.1023 - val_loss: 0.0838\n",
      "Epoch 77/600\n"
     ]
    },
    {
     "name": "stdout",
     "output_type": "stream",
     "text": [
      "426/426 [==============================] - 1s 3ms/sample - loss: 0.1351 - val_loss: 0.0877\n",
      "Epoch 78/600\n",
      "426/426 [==============================] - 1s 1ms/sample - loss: 0.1244 - val_loss: 0.0936\n",
      "Epoch 79/600\n",
      "426/426 [==============================] - 0s 1ms/sample - loss: 0.1239 - val_loss: 0.0921\n",
      "Epoch 80/600\n",
      "426/426 [==============================] - 0s 958us/sample - loss: 0.1095 - val_loss: 0.0875\n",
      "Epoch 81/600\n",
      "426/426 [==============================] - 1s 1ms/sample - loss: 0.1233 - val_loss: 0.0841\n",
      "Epoch 82/600\n",
      "426/426 [==============================] - 0s 1ms/sample - loss: 0.1142 - val_loss: 0.0953\n",
      "Epoch 83/600\n",
      "426/426 [==============================] - 1s 1ms/sample - loss: 0.1322 - val_loss: 0.0926\n",
      "Epoch 84/600\n",
      "426/426 [==============================] - 0s 919us/sample - loss: 0.1104 - val_loss: 0.0811\n",
      "Epoch 85/600\n",
      "426/426 [==============================] - 1s 1ms/sample - loss: 0.0986 - val_loss: 0.0936\n",
      "Epoch 86/600\n",
      "426/426 [==============================] - 0s 1ms/sample - loss: 0.1207 - val_loss: 0.0875\n",
      "Epoch 87/600\n",
      "426/426 [==============================] - 1s 1ms/sample - loss: 0.1104 - val_loss: 0.0869\n",
      "Epoch 88/600\n",
      "426/426 [==============================] - 1s 1ms/sample - loss: 0.1221 - val_loss: 0.0843\n",
      "Epoch 89/600\n",
      "426/426 [==============================] - 1s 1ms/sample - loss: 0.1161 - val_loss: 0.0916\n",
      "Epoch 90/600\n",
      "426/426 [==============================] - 1s 1ms/sample - loss: 0.1130 - val_loss: 0.0864\n",
      "Epoch 91/600\n",
      "426/426 [==============================] - 1s 1ms/sample - loss: 0.1216 - val_loss: 0.0869\n",
      "Epoch 92/600\n",
      "426/426 [==============================] - 1s 2ms/sample - loss: 0.1099 - val_loss: 0.1080\n",
      "Epoch 93/600\n",
      "426/426 [==============================] - 1s 1ms/sample - loss: 0.1128 - val_loss: 0.0965\n",
      "Epoch 94/600\n",
      "426/426 [==============================] - 0s 1ms/sample - loss: 0.1290 - val_loss: 0.0876\n",
      "Epoch 95/600\n",
      "426/426 [==============================] - 0s 951us/sample - loss: 0.1216 - val_loss: 0.0856\n",
      "Epoch 96/600\n",
      "426/426 [==============================] - 1s 1ms/sample - loss: 0.1103 - val_loss: 0.1009\n",
      "Epoch 97/600\n",
      "426/426 [==============================] - 0s 1ms/sample - loss: 0.0860 - val_loss: 0.0827\n",
      "Epoch 98/600\n",
      "426/426 [==============================] - 1s 1ms/sample - loss: 0.1030 - val_loss: 0.0850\n",
      "Epoch 99/600\n",
      "426/426 [==============================] - 1s 1ms/sample - loss: 0.0991 - val_loss: 0.0909\n",
      "Epoch 100/600\n",
      "426/426 [==============================] - 1s 1ms/sample - loss: 0.1157 - val_loss: 0.0855\n",
      "Epoch 101/600\n",
      "426/426 [==============================] - 0s 989us/sample - loss: 0.1025 - val_loss: 0.0834\n",
      "Epoch 102/600\n",
      "426/426 [==============================] - 1s 1ms/sample - loss: 0.0972 - val_loss: 0.0963\n",
      "Epoch 103/600\n",
      "426/426 [==============================] - 1s 2ms/sample - loss: 0.0990 - val_loss: 0.0970\n",
      "Epoch 104/600\n",
      "426/426 [==============================] - 1s 1ms/sample - loss: 0.0906 - val_loss: 0.0858\n",
      "Epoch 105/600\n",
      "426/426 [==============================] - 0s 917us/sample - loss: 0.1094 - val_loss: 0.0851\n",
      "Epoch 106/600\n",
      "426/426 [==============================] - 0s 1ms/sample - loss: 0.0796 - val_loss: 0.0840\n",
      "Epoch 107/600\n",
      "426/426 [==============================] - 1s 1ms/sample - loss: 0.0986 - val_loss: 0.0885\n",
      "Epoch 108/600\n",
      "426/426 [==============================] - 1s 1ms/sample - loss: 0.0819 - val_loss: 0.0892\n",
      "Epoch 109/600\n",
      "426/426 [==============================] - 0s 1ms/sample - loss: 0.1149 - val_loss: 0.0905\n",
      "Epoch 00109: early stopping\n"
     ]
    },
    {
     "data": {
      "text/plain": [
       "<tensorflow.python.keras.callbacks.History at 0x21c7fbc14c8>"
      ]
     },
     "execution_count": 18,
     "metadata": {},
     "output_type": "execute_result"
    }
   ],
   "source": [
    "model.fit(x=X_train, \n",
    "          y=y_train, \n",
    "          epochs=600,\n",
    "          validation_data=(X_test, y_test), verbose=1,\n",
    "          callbacks=[early_stop,board]\n",
    "          )"
   ]
  },
  {
   "cell_type": "code",
   "execution_count": 19,
   "metadata": {},
   "outputs": [
    {
     "name": "stdout",
     "output_type": "stream",
     "text": [
      "logs\\fit\n"
     ]
    }
   ],
   "source": [
    "print(log_directory)"
   ]
  },
  {
   "cell_type": "code",
   "execution_count": null,
   "metadata": {},
   "outputs": [],
   "source": []
  }
 ],
 "metadata": {
  "kernelspec": {
   "display_name": "Python 3",
   "language": "python",
   "name": "python3"
  },
  "language_info": {
   "codemirror_mode": {
    "name": "ipython",
    "version": 3
   },
   "file_extension": ".py",
   "mimetype": "text/x-python",
   "name": "python",
   "nbconvert_exporter": "python",
   "pygments_lexer": "ipython3",
   "version": "3.7.6"
  }
 },
 "nbformat": 4,
 "nbformat_minor": 4
}
