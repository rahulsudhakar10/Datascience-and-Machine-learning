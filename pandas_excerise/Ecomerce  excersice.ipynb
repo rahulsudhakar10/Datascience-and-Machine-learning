{
 "cells": [
  {
   "cell_type": "code",
   "execution_count": 1,
   "metadata": {},
   "outputs": [],
   "source": [
    "import pandas as pd"
   ]
  },
  {
   "cell_type": "code",
   "execution_count": 2,
   "metadata": {},
   "outputs": [],
   "source": [
    "ecom = pd.read_csv('Ecommerce Purchases')"
   ]
  },
  {
   "cell_type": "code",
   "execution_count": 3,
   "metadata": {},
   "outputs": [
    {
     "name": "stdout",
     "output_type": "stream",
     "text": [
      "<class 'pandas.core.frame.DataFrame'>\n",
      "RangeIndex: 10000 entries, 0 to 9999\n",
      "Data columns (total 14 columns):\n",
      " #   Column            Non-Null Count  Dtype  \n",
      "---  ------            --------------  -----  \n",
      " 0   Address           10000 non-null  object \n",
      " 1   Lot               10000 non-null  object \n",
      " 2   AM or PM          10000 non-null  object \n",
      " 3   Browser Info      10000 non-null  object \n",
      " 4   Company           10000 non-null  object \n",
      " 5   Credit Card       10000 non-null  int64  \n",
      " 6   CC Exp Date       10000 non-null  object \n",
      " 7   CC Security Code  10000 non-null  int64  \n",
      " 8   CC Provider       10000 non-null  object \n",
      " 9   Email             10000 non-null  object \n",
      " 10  Job               10000 non-null  object \n",
      " 11  IP Address        10000 non-null  object \n",
      " 12  Language          10000 non-null  object \n",
      " 13  Purchase Price    10000 non-null  float64\n",
      "dtypes: float64(1), int64(2), object(11)\n",
      "memory usage: 1.1+ MB\n"
     ]
    }
   ],
   "source": [
    "ecom.info()"
   ]
  },
  {
   "cell_type": "code",
   "execution_count": 4,
   "metadata": {},
   "outputs": [
    {
     "data": {
      "text/plain": [
       "50.34730200000025"
      ]
     },
     "execution_count": 4,
     "metadata": {},
     "output_type": "execute_result"
    }
   ],
   "source": [
    "ecom['Purchase Price'].mean()"
   ]
  },
  {
   "cell_type": "code",
   "execution_count": 6,
   "metadata": {},
   "outputs": [
    {
     "data": {
      "text/plain": [
       "99.99"
      ]
     },
     "execution_count": 6,
     "metadata": {},
     "output_type": "execute_result"
    }
   ],
   "source": [
    "ecom['Purchase Price'].max()"
   ]
  },
  {
   "cell_type": "code",
   "execution_count": 7,
   "metadata": {},
   "outputs": [
    {
     "data": {
      "text/plain": [
       "0.0"
      ]
     },
     "execution_count": 7,
     "metadata": {},
     "output_type": "execute_result"
    }
   ],
   "source": [
    "ecom['Purchase Price'].min()"
   ]
  },
  {
   "cell_type": "code",
   "execution_count": 9,
   "metadata": {},
   "outputs": [
    {
     "data": {
      "text/plain": [
       "Address             1098\n",
       "Lot                 1098\n",
       "AM or PM            1098\n",
       "Browser Info        1098\n",
       "Company             1098\n",
       "Credit Card         1098\n",
       "CC Exp Date         1098\n",
       "CC Security Code    1098\n",
       "CC Provider         1098\n",
       "Email               1098\n",
       "Job                 1098\n",
       "IP Address          1098\n",
       "Language            1098\n",
       "Purchase Price      1098\n",
       "dtype: int64"
      ]
     },
     "execution_count": 9,
     "metadata": {},
     "output_type": "execute_result"
    }
   ],
   "source": [
    "ecom[ecom['Language'] == 'en'].count()"
   ]
  },
  {
   "cell_type": "code",
   "execution_count": 11,
   "metadata": {},
   "outputs": [
    {
     "data": {
      "text/html": [
       "<div>\n",
       "<style scoped>\n",
       "    .dataframe tbody tr th:only-of-type {\n",
       "        vertical-align: middle;\n",
       "    }\n",
       "\n",
       "    .dataframe tbody tr th {\n",
       "        vertical-align: top;\n",
       "    }\n",
       "\n",
       "    .dataframe thead th {\n",
       "        text-align: right;\n",
       "    }\n",
       "</style>\n",
       "<table border=\"1\" class=\"dataframe\">\n",
       "  <thead>\n",
       "    <tr style=\"text-align: right;\">\n",
       "      <th></th>\n",
       "      <th>Address</th>\n",
       "      <th>Lot</th>\n",
       "      <th>AM or PM</th>\n",
       "      <th>Browser Info</th>\n",
       "      <th>Company</th>\n",
       "      <th>Credit Card</th>\n",
       "      <th>CC Exp Date</th>\n",
       "      <th>CC Security Code</th>\n",
       "      <th>CC Provider</th>\n",
       "      <th>Email</th>\n",
       "      <th>Job</th>\n",
       "      <th>IP Address</th>\n",
       "      <th>Language</th>\n",
       "      <th>Purchase Price</th>\n",
       "    </tr>\n",
       "  </thead>\n",
       "  <tbody>\n",
       "    <tr>\n",
       "      <th>470</th>\n",
       "      <td>9310 Bailey Mountain Apt. 832\\nLake Jacqueline...</td>\n",
       "      <td>67 tQ</td>\n",
       "      <td>PM</td>\n",
       "      <td>Mozilla/5.0 (X11; Linux x86_64; rv:1.9.7.20) G...</td>\n",
       "      <td>White-Hicks</td>\n",
       "      <td>210056645973585</td>\n",
       "      <td>03/19</td>\n",
       "      <td>726</td>\n",
       "      <td>Voyager</td>\n",
       "      <td>francisjohnson@peters-green.com</td>\n",
       "      <td>Lawyer</td>\n",
       "      <td>253.78.210.57</td>\n",
       "      <td>it</td>\n",
       "      <td>64.50</td>\n",
       "    </tr>\n",
       "    <tr>\n",
       "      <th>508</th>\n",
       "      <td>5064 Nicole Circle\\nJohnsonburgh, NM 78266-6283</td>\n",
       "      <td>53 rJ</td>\n",
       "      <td>PM</td>\n",
       "      <td>Mozilla/5.0 (Windows NT 5.2; it-IT; rv:1.9.1.2...</td>\n",
       "      <td>Mcdonald, Green and Jennings</td>\n",
       "      <td>4040542728940631</td>\n",
       "      <td>06/26</td>\n",
       "      <td>101</td>\n",
       "      <td>VISA 16 digit</td>\n",
       "      <td>karen24@hotmail.com</td>\n",
       "      <td>Lawyer</td>\n",
       "      <td>13.128.34.120</td>\n",
       "      <td>ru</td>\n",
       "      <td>94.40</td>\n",
       "    </tr>\n",
       "    <tr>\n",
       "      <th>1275</th>\n",
       "      <td>4394 Sherry Row Suite 034\\nSouth Rebecca, MD 6...</td>\n",
       "      <td>80 jP</td>\n",
       "      <td>PM</td>\n",
       "      <td>Opera/9.29.(Windows NT 5.2; en-US) Presto/2.9....</td>\n",
       "      <td>Brewer-Smith</td>\n",
       "      <td>3096214913494379</td>\n",
       "      <td>04/17</td>\n",
       "      <td>124</td>\n",
       "      <td>JCB 15 digit</td>\n",
       "      <td>robertrobertson@ford.biz</td>\n",
       "      <td>Lawyer</td>\n",
       "      <td>245.31.38.181</td>\n",
       "      <td>el</td>\n",
       "      <td>58.05</td>\n",
       "    </tr>\n",
       "  </tbody>\n",
       "</table>\n",
       "</div>"
      ],
      "text/plain": [
       "                                                Address    Lot AM or PM  \\\n",
       "470   9310 Bailey Mountain Apt. 832\\nLake Jacqueline...  67 tQ       PM   \n",
       "508     5064 Nicole Circle\\nJohnsonburgh, NM 78266-6283  53 rJ       PM   \n",
       "1275  4394 Sherry Row Suite 034\\nSouth Rebecca, MD 6...  80 jP       PM   \n",
       "\n",
       "                                           Browser Info  \\\n",
       "470   Mozilla/5.0 (X11; Linux x86_64; rv:1.9.7.20) G...   \n",
       "508   Mozilla/5.0 (Windows NT 5.2; it-IT; rv:1.9.1.2...   \n",
       "1275  Opera/9.29.(Windows NT 5.2; en-US) Presto/2.9....   \n",
       "\n",
       "                           Company       Credit Card CC Exp Date  \\\n",
       "470                    White-Hicks   210056645973585       03/19   \n",
       "508   Mcdonald, Green and Jennings  4040542728940631       06/26   \n",
       "1275                  Brewer-Smith  3096214913494379       04/17   \n",
       "\n",
       "      CC Security Code    CC Provider                            Email  \\\n",
       "470                726        Voyager  francisjohnson@peters-green.com   \n",
       "508                101  VISA 16 digit              karen24@hotmail.com   \n",
       "1275               124   JCB 15 digit         robertrobertson@ford.biz   \n",
       "\n",
       "         Job     IP Address Language  Purchase Price  \n",
       "470   Lawyer  253.78.210.57       it           64.50  \n",
       "508   Lawyer  13.128.34.120       ru           94.40  \n",
       "1275  Lawyer  245.31.38.181       el           58.05  "
      ]
     },
     "execution_count": 11,
     "metadata": {},
     "output_type": "execute_result"
    }
   ],
   "source": [
    "ecom[ecom['Job']=='Lawyer'].head(3)"
   ]
  },
  {
   "cell_type": "code",
   "execution_count": 12,
   "metadata": {},
   "outputs": [
    {
     "data": {
      "text/plain": [
       "PM    5068\n",
       "AM    4932\n",
       "Name: AM or PM, dtype: int64"
      ]
     },
     "execution_count": 12,
     "metadata": {},
     "output_type": "execute_result"
    }
   ],
   "source": [
    "ecom['AM or PM'].value_counts()"
   ]
  },
  {
   "cell_type": "code",
   "execution_count": 13,
   "metadata": {},
   "outputs": [
    {
     "data": {
      "text/plain": [
       "Interior and spatial designer        31\n",
       "Lawyer                               30\n",
       "Social researcher                    28\n",
       "Research officer, political party    27\n",
       "Purchasing manager                   27\n",
       "                                     ..\n",
       "Special effects artist                7\n",
       "Editor, film/video                    6\n",
       "Actuary                               6\n",
       "Investment analyst                    5\n",
       "Information systems manager           5\n",
       "Name: Job, Length: 623, dtype: int64"
      ]
     },
     "execution_count": 13,
     "metadata": {},
     "output_type": "execute_result"
    }
   ],
   "source": [
    "ecom['Job'].value_counts()"
   ]
  },
  {
   "cell_type": "code",
   "execution_count": 14,
   "metadata": {},
   "outputs": [
    {
     "data": {
      "text/html": [
       "<div>\n",
       "<style scoped>\n",
       "    .dataframe tbody tr th:only-of-type {\n",
       "        vertical-align: middle;\n",
       "    }\n",
       "\n",
       "    .dataframe tbody tr th {\n",
       "        vertical-align: top;\n",
       "    }\n",
       "\n",
       "    .dataframe thead th {\n",
       "        text-align: right;\n",
       "    }\n",
       "</style>\n",
       "<table border=\"1\" class=\"dataframe\">\n",
       "  <thead>\n",
       "    <tr style=\"text-align: right;\">\n",
       "      <th></th>\n",
       "      <th>Address</th>\n",
       "      <th>Lot</th>\n",
       "      <th>AM or PM</th>\n",
       "      <th>Browser Info</th>\n",
       "      <th>Company</th>\n",
       "      <th>Credit Card</th>\n",
       "      <th>CC Exp Date</th>\n",
       "      <th>CC Security Code</th>\n",
       "      <th>CC Provider</th>\n",
       "      <th>Email</th>\n",
       "      <th>Job</th>\n",
       "      <th>IP Address</th>\n",
       "      <th>Language</th>\n",
       "      <th>Purchase Price</th>\n",
       "    </tr>\n",
       "  </thead>\n",
       "  <tbody>\n",
       "    <tr>\n",
       "      <th>513</th>\n",
       "      <td>50398 Mccoy Rest Suite 597\\nSouth Garyborough,...</td>\n",
       "      <td>90 WT</td>\n",
       "      <td>AM</td>\n",
       "      <td>Mozilla/5.0 (iPod; U; CPU iPhone OS 3_2 like M...</td>\n",
       "      <td>Bright PLC</td>\n",
       "      <td>630438419693</td>\n",
       "      <td>11/19</td>\n",
       "      <td>173</td>\n",
       "      <td>American Express</td>\n",
       "      <td>jesse00@page.net</td>\n",
       "      <td>Energy engineer</td>\n",
       "      <td>156.70.208.94</td>\n",
       "      <td>ru</td>\n",
       "      <td>75.1</td>\n",
       "    </tr>\n",
       "  </tbody>\n",
       "</table>\n",
       "</div>"
      ],
      "text/plain": [
       "                                               Address    Lot AM or PM  \\\n",
       "513  50398 Mccoy Rest Suite 597\\nSouth Garyborough,...  90 WT       AM   \n",
       "\n",
       "                                          Browser Info     Company  \\\n",
       "513  Mozilla/5.0 (iPod; U; CPU iPhone OS 3_2 like M...  Bright PLC   \n",
       "\n",
       "      Credit Card CC Exp Date  CC Security Code       CC Provider  \\\n",
       "513  630438419693       11/19               173  American Express   \n",
       "\n",
       "                Email              Job     IP Address Language  Purchase Price  \n",
       "513  jesse00@page.net  Energy engineer  156.70.208.94       ru            75.1  "
      ]
     },
     "execution_count": 14,
     "metadata": {},
     "output_type": "execute_result"
    }
   ],
   "source": [
    "ecom[ecom['Lot'] == '90 WT']"
   ]
  },
  {
   "cell_type": "code",
   "execution_count": 15,
   "metadata": {},
   "outputs": [
    {
     "data": {
      "text/plain": [
       "1234    bondellen@williams-garza.com\n",
       "Name: Email, dtype: object"
      ]
     },
     "execution_count": 15,
     "metadata": {},
     "output_type": "execute_result"
    }
   ],
   "source": [
    "ecom[ecom['Credit Card'] == 4926535242672853]['Email']"
   ]
  },
  {
   "cell_type": "code",
   "execution_count": 19,
   "metadata": {},
   "outputs": [
    {
     "data": {
      "text/plain": [
       "Address             39\n",
       "Lot                 39\n",
       "AM or PM            39\n",
       "Browser Info        39\n",
       "Company             39\n",
       "Credit Card         39\n",
       "CC Exp Date         39\n",
       "CC Security Code    39\n",
       "CC Provider         39\n",
       "Email               39\n",
       "Job                 39\n",
       "IP Address          39\n",
       "Language            39\n",
       "Purchase Price      39\n",
       "dtype: int64"
      ]
     },
     "execution_count": 19,
     "metadata": {},
     "output_type": "execute_result"
    }
   ],
   "source": [
    "ecom[(ecom['CC Provider'] == 'American Express') & (ecom['Purchase Price'] > 95)].count()"
   ]
  },
  {
   "cell_type": "code",
   "execution_count": 20,
   "metadata": {},
   "outputs": [
    {
     "data": {
      "text/html": [
       "<div>\n",
       "<style scoped>\n",
       "    .dataframe tbody tr th:only-of-type {\n",
       "        vertical-align: middle;\n",
       "    }\n",
       "\n",
       "    .dataframe tbody tr th {\n",
       "        vertical-align: top;\n",
       "    }\n",
       "\n",
       "    .dataframe thead th {\n",
       "        text-align: right;\n",
       "    }\n",
       "</style>\n",
       "<table border=\"1\" class=\"dataframe\">\n",
       "  <thead>\n",
       "    <tr style=\"text-align: right;\">\n",
       "      <th></th>\n",
       "      <th>Address</th>\n",
       "      <th>Lot</th>\n",
       "      <th>AM or PM</th>\n",
       "      <th>Browser Info</th>\n",
       "      <th>Company</th>\n",
       "      <th>Credit Card</th>\n",
       "      <th>CC Exp Date</th>\n",
       "      <th>CC Security Code</th>\n",
       "      <th>CC Provider</th>\n",
       "      <th>Email</th>\n",
       "      <th>Job</th>\n",
       "      <th>IP Address</th>\n",
       "      <th>Language</th>\n",
       "      <th>Purchase Price</th>\n",
       "    </tr>\n",
       "  </thead>\n",
       "  <tbody>\n",
       "    <tr>\n",
       "      <th>4</th>\n",
       "      <td>23012 Munoz Drive Suite 337\\nNew Cynthia, TX 5...</td>\n",
       "      <td>20 IE</td>\n",
       "      <td>AM</td>\n",
       "      <td>Opera/9.58.(X11; Linux x86_64; it-IT) Presto/2...</td>\n",
       "      <td>Brown, Watson and Andrews</td>\n",
       "      <td>6011456623207998</td>\n",
       "      <td>10/25</td>\n",
       "      <td>678</td>\n",
       "      <td>Diners Club / Carte Blanche</td>\n",
       "      <td>christopherwright@gmail.com</td>\n",
       "      <td>Fine artist</td>\n",
       "      <td>24.140.33.94</td>\n",
       "      <td>es</td>\n",
       "      <td>77.82</td>\n",
       "    </tr>\n",
       "    <tr>\n",
       "      <th>5</th>\n",
       "      <td>7502 Powell Mission Apt. 768\\nTravisland, VA 3...</td>\n",
       "      <td>21 XT</td>\n",
       "      <td>PM</td>\n",
       "      <td>Mozilla/5.0 (Macintosh; U; PPC Mac OS X 10_8_5...</td>\n",
       "      <td>Silva-Anderson</td>\n",
       "      <td>30246185196287</td>\n",
       "      <td>07/25</td>\n",
       "      <td>7169</td>\n",
       "      <td>Discover</td>\n",
       "      <td>ynguyen@gmail.com</td>\n",
       "      <td>Fish farm manager</td>\n",
       "      <td>55.96.152.147</td>\n",
       "      <td>ru</td>\n",
       "      <td>25.15</td>\n",
       "    </tr>\n",
       "    <tr>\n",
       "      <th>7</th>\n",
       "      <td>260 Rachel Plains Suite 366\\nCastroberg, WV 24...</td>\n",
       "      <td>96 pG</td>\n",
       "      <td>PM</td>\n",
       "      <td>Mozilla/5.0 (X11; Linux i686) AppleWebKit/5350...</td>\n",
       "      <td>Marshall-Collins</td>\n",
       "      <td>561252141909</td>\n",
       "      <td>06/25</td>\n",
       "      <td>256</td>\n",
       "      <td>VISA 13 digit</td>\n",
       "      <td>phillip48@parks.info</td>\n",
       "      <td>Event organiser</td>\n",
       "      <td>224.247.97.150</td>\n",
       "      <td>pt</td>\n",
       "      <td>44.25</td>\n",
       "    </tr>\n",
       "    <tr>\n",
       "      <th>13</th>\n",
       "      <td>118 Melton Via Suite 681\\nAlexanderbury, FL 32104</td>\n",
       "      <td>36 bu</td>\n",
       "      <td>PM</td>\n",
       "      <td>Mozilla/5.0 (Macintosh; U; Intel Mac OS X 10_8...</td>\n",
       "      <td>Keller PLC</td>\n",
       "      <td>4603635169938574</td>\n",
       "      <td>01/25</td>\n",
       "      <td>557</td>\n",
       "      <td>VISA 16 digit</td>\n",
       "      <td>caitlin57@yahoo.com</td>\n",
       "      <td>Accountant, chartered public finance</td>\n",
       "      <td>84.212.92.11</td>\n",
       "      <td>it</td>\n",
       "      <td>8.93</td>\n",
       "    </tr>\n",
       "    <tr>\n",
       "      <th>15</th>\n",
       "      <td>31730 Chelsea Crest\\nBlakemouth, CT 90395-0620</td>\n",
       "      <td>41 Cj</td>\n",
       "      <td>PM</td>\n",
       "      <td>Opera/8.95.(Windows NT 5.0; en-US) Presto/2.9....</td>\n",
       "      <td>Garcia-Steele</td>\n",
       "      <td>180069437020404</td>\n",
       "      <td>04/25</td>\n",
       "      <td>404</td>\n",
       "      <td>Diners Club / Carte Blanche</td>\n",
       "      <td>amanda39@yahoo.com</td>\n",
       "      <td>Retail manager</td>\n",
       "      <td>53.176.235.33</td>\n",
       "      <td>el</td>\n",
       "      <td>71.78</td>\n",
       "    </tr>\n",
       "    <tr>\n",
       "      <th>...</th>\n",
       "      <td>...</td>\n",
       "      <td>...</td>\n",
       "      <td>...</td>\n",
       "      <td>...</td>\n",
       "      <td>...</td>\n",
       "      <td>...</td>\n",
       "      <td>...</td>\n",
       "      <td>...</td>\n",
       "      <td>...</td>\n",
       "      <td>...</td>\n",
       "      <td>...</td>\n",
       "      <td>...</td>\n",
       "      <td>...</td>\n",
       "      <td>...</td>\n",
       "    </tr>\n",
       "    <tr>\n",
       "      <th>9955</th>\n",
       "      <td>66539 Potts Forge\\nCartershire, AK 58271-5180</td>\n",
       "      <td>37 KB</td>\n",
       "      <td>AM</td>\n",
       "      <td>Mozilla/5.0 (compatible; MSIE 8.0; Windows CE;...</td>\n",
       "      <td>Russell PLC</td>\n",
       "      <td>4716539058450</td>\n",
       "      <td>02/25</td>\n",
       "      <td>2805</td>\n",
       "      <td>JCB 16 digit</td>\n",
       "      <td>matthewcontreras@bradshaw-skinner.com</td>\n",
       "      <td>Podiatrist</td>\n",
       "      <td>88.110.181.120</td>\n",
       "      <td>zh</td>\n",
       "      <td>84.09</td>\n",
       "    </tr>\n",
       "    <tr>\n",
       "      <th>9963</th>\n",
       "      <td>3865 Davis Meadow Suite 915\\nPort Stacieview, ...</td>\n",
       "      <td>11 fo</td>\n",
       "      <td>AM</td>\n",
       "      <td>Mozilla/5.0 (iPod; U; CPU iPhone OS 3_3 like M...</td>\n",
       "      <td>Brown, Gentry and White</td>\n",
       "      <td>4295151255424068</td>\n",
       "      <td>07/25</td>\n",
       "      <td>764</td>\n",
       "      <td>JCB 15 digit</td>\n",
       "      <td>zjames@gmail.com</td>\n",
       "      <td>Surgeon</td>\n",
       "      <td>171.24.198.172</td>\n",
       "      <td>en</td>\n",
       "      <td>58.17</td>\n",
       "    </tr>\n",
       "    <tr>\n",
       "      <th>9993</th>\n",
       "      <td>7555 Larson Locks Suite 229\\nEllisburgh, MA 34...</td>\n",
       "      <td>72 jg</td>\n",
       "      <td>PM</td>\n",
       "      <td>Mozilla/5.0 (Macintosh; U; Intel Mac OS X 10_8...</td>\n",
       "      <td>Colon and Sons</td>\n",
       "      <td>30025560104631</td>\n",
       "      <td>10/25</td>\n",
       "      <td>629</td>\n",
       "      <td>Maestro</td>\n",
       "      <td>chelseawilliams@lopez.biz</td>\n",
       "      <td>Designer, exhibition/display</td>\n",
       "      <td>177.46.82.128</td>\n",
       "      <td>el</td>\n",
       "      <td>65.61</td>\n",
       "    </tr>\n",
       "    <tr>\n",
       "      <th>9994</th>\n",
       "      <td>6276 Rojas Hollow\\nLake Louis, WY 56410-7837</td>\n",
       "      <td>93 Ex</td>\n",
       "      <td>PM</td>\n",
       "      <td>Opera/9.68.(X11; Linux x86_64; sl-SI) Presto/2...</td>\n",
       "      <td>Ritter-Smith</td>\n",
       "      <td>3112186784121077</td>\n",
       "      <td>01/25</td>\n",
       "      <td>1823</td>\n",
       "      <td>Maestro</td>\n",
       "      <td>iroberts@gmail.com</td>\n",
       "      <td>Education officer, museum</td>\n",
       "      <td>242.44.112.18</td>\n",
       "      <td>zh</td>\n",
       "      <td>31.85</td>\n",
       "    </tr>\n",
       "    <tr>\n",
       "      <th>9996</th>\n",
       "      <td>832 Curtis Dam Suite 785\\nNorth Edwardburgh, T...</td>\n",
       "      <td>41 JY</td>\n",
       "      <td>AM</td>\n",
       "      <td>Mozilla/5.0 (compatible; MSIE 9.0; Windows NT ...</td>\n",
       "      <td>Hale, Collins and Wilson</td>\n",
       "      <td>210033169205009</td>\n",
       "      <td>07/25</td>\n",
       "      <td>207</td>\n",
       "      <td>JCB 16 digit</td>\n",
       "      <td>mary85@hotmail.com</td>\n",
       "      <td>Energy engineer</td>\n",
       "      <td>121.133.168.51</td>\n",
       "      <td>pt</td>\n",
       "      <td>25.63</td>\n",
       "    </tr>\n",
       "  </tbody>\n",
       "</table>\n",
       "<p>1033 rows × 14 columns</p>\n",
       "</div>"
      ],
      "text/plain": [
       "                                                Address    Lot AM or PM  \\\n",
       "4     23012 Munoz Drive Suite 337\\nNew Cynthia, TX 5...  20 IE       AM   \n",
       "5     7502 Powell Mission Apt. 768\\nTravisland, VA 3...  21 XT       PM   \n",
       "7     260 Rachel Plains Suite 366\\nCastroberg, WV 24...  96 pG       PM   \n",
       "13    118 Melton Via Suite 681\\nAlexanderbury, FL 32104  36 bu       PM   \n",
       "15       31730 Chelsea Crest\\nBlakemouth, CT 90395-0620  41 Cj       PM   \n",
       "...                                                 ...    ...      ...   \n",
       "9955      66539 Potts Forge\\nCartershire, AK 58271-5180  37 KB       AM   \n",
       "9963  3865 Davis Meadow Suite 915\\nPort Stacieview, ...  11 fo       AM   \n",
       "9993  7555 Larson Locks Suite 229\\nEllisburgh, MA 34...  72 jg       PM   \n",
       "9994       6276 Rojas Hollow\\nLake Louis, WY 56410-7837  93 Ex       PM   \n",
       "9996  832 Curtis Dam Suite 785\\nNorth Edwardburgh, T...  41 JY       AM   \n",
       "\n",
       "                                           Browser Info  \\\n",
       "4     Opera/9.58.(X11; Linux x86_64; it-IT) Presto/2...   \n",
       "5     Mozilla/5.0 (Macintosh; U; PPC Mac OS X 10_8_5...   \n",
       "7     Mozilla/5.0 (X11; Linux i686) AppleWebKit/5350...   \n",
       "13    Mozilla/5.0 (Macintosh; U; Intel Mac OS X 10_8...   \n",
       "15    Opera/8.95.(Windows NT 5.0; en-US) Presto/2.9....   \n",
       "...                                                 ...   \n",
       "9955  Mozilla/5.0 (compatible; MSIE 8.0; Windows CE;...   \n",
       "9963  Mozilla/5.0 (iPod; U; CPU iPhone OS 3_3 like M...   \n",
       "9993  Mozilla/5.0 (Macintosh; U; Intel Mac OS X 10_8...   \n",
       "9994  Opera/9.68.(X11; Linux x86_64; sl-SI) Presto/2...   \n",
       "9996  Mozilla/5.0 (compatible; MSIE 9.0; Windows NT ...   \n",
       "\n",
       "                        Company       Credit Card CC Exp Date  \\\n",
       "4     Brown, Watson and Andrews  6011456623207998       10/25   \n",
       "5                Silva-Anderson    30246185196287       07/25   \n",
       "7              Marshall-Collins      561252141909       06/25   \n",
       "13                   Keller PLC  4603635169938574       01/25   \n",
       "15                Garcia-Steele   180069437020404       04/25   \n",
       "...                         ...               ...         ...   \n",
       "9955                Russell PLC     4716539058450       02/25   \n",
       "9963    Brown, Gentry and White  4295151255424068       07/25   \n",
       "9993             Colon and Sons    30025560104631       10/25   \n",
       "9994               Ritter-Smith  3112186784121077       01/25   \n",
       "9996   Hale, Collins and Wilson   210033169205009       07/25   \n",
       "\n",
       "      CC Security Code                  CC Provider  \\\n",
       "4                  678  Diners Club / Carte Blanche   \n",
       "5                 7169                     Discover   \n",
       "7                  256                VISA 13 digit   \n",
       "13                 557                VISA 16 digit   \n",
       "15                 404  Diners Club / Carte Blanche   \n",
       "...                ...                          ...   \n",
       "9955              2805                 JCB 16 digit   \n",
       "9963               764                 JCB 15 digit   \n",
       "9993               629                      Maestro   \n",
       "9994              1823                      Maestro   \n",
       "9996               207                 JCB 16 digit   \n",
       "\n",
       "                                      Email  \\\n",
       "4               christopherwright@gmail.com   \n",
       "5                         ynguyen@gmail.com   \n",
       "7                      phillip48@parks.info   \n",
       "13                      caitlin57@yahoo.com   \n",
       "15                       amanda39@yahoo.com   \n",
       "...                                     ...   \n",
       "9955  matthewcontreras@bradshaw-skinner.com   \n",
       "9963                       zjames@gmail.com   \n",
       "9993              chelseawilliams@lopez.biz   \n",
       "9994                     iroberts@gmail.com   \n",
       "9996                     mary85@hotmail.com   \n",
       "\n",
       "                                       Job      IP Address Language  \\\n",
       "4                              Fine artist    24.140.33.94       es   \n",
       "5                        Fish farm manager   55.96.152.147       ru   \n",
       "7                          Event organiser  224.247.97.150       pt   \n",
       "13    Accountant, chartered public finance    84.212.92.11       it   \n",
       "15                          Retail manager   53.176.235.33       el   \n",
       "...                                    ...             ...      ...   \n",
       "9955                            Podiatrist  88.110.181.120       zh   \n",
       "9963                               Surgeon  171.24.198.172       en   \n",
       "9993          Designer, exhibition/display   177.46.82.128       el   \n",
       "9994             Education officer, museum   242.44.112.18       zh   \n",
       "9996                       Energy engineer  121.133.168.51       pt   \n",
       "\n",
       "      Purchase Price  \n",
       "4              77.82  \n",
       "5              25.15  \n",
       "7              44.25  \n",
       "13              8.93  \n",
       "15             71.78  \n",
       "...              ...  \n",
       "9955           84.09  \n",
       "9963           58.17  \n",
       "9993           65.61  \n",
       "9994           31.85  \n",
       "9996           25.63  \n",
       "\n",
       "[1033 rows x 14 columns]"
      ]
     },
     "execution_count": 20,
     "metadata": {},
     "output_type": "execute_result"
    }
   ],
   "source": [
    "ecom[ecom['CC Exp Date'].apply(lambda x: x[3:]=='25')]"
   ]
  },
  {
   "cell_type": "code",
   "execution_count": 23,
   "metadata": {},
   "outputs": [
    {
     "data": {
      "text/plain": [
       "hotmail.com     1638\n",
       "yahoo.com       1616\n",
       "gmail.com       1605\n",
       "smith.com         42\n",
       "williams.com      37\n",
       "Name: Email, dtype: int64"
      ]
     },
     "execution_count": 23,
     "metadata": {},
     "output_type": "execute_result"
    }
   ],
   "source": [
    "ecom['Email'].apply(lambda x : x.split('@')[1]).value_counts().head(5)"
   ]
  },
  {
   "cell_type": "code",
   "execution_count": null,
   "metadata": {},
   "outputs": [],
   "source": []
  }
 ],
 "metadata": {
  "kernelspec": {
   "display_name": "Python 3",
   "language": "python",
   "name": "python3"
  },
  "language_info": {
   "codemirror_mode": {
    "name": "ipython",
    "version": 3
   },
   "file_extension": ".py",
   "mimetype": "text/x-python",
   "name": "python",
   "nbconvert_exporter": "python",
   "pygments_lexer": "ipython3",
   "version": "3.7.6"
  }
 },
 "nbformat": 4,
 "nbformat_minor": 4
}
